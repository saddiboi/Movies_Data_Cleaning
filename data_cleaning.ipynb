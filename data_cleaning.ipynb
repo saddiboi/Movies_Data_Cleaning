{
 "cells": [
  {
   "cell_type": "code",
   "execution_count": 1,
   "id": "32065b13",
   "metadata": {},
   "outputs": [
    {
     "name": "stderr",
     "output_type": "stream",
     "text": [
      "Matplotlib is building the font cache; this may take a moment.\n"
     ]
    }
   ],
   "source": [
    "import pandas as pd\n",
    "import matplotlib.pyplot as plt\n",
    "import numpy as np"
   ]
  },
  {
   "cell_type": "code",
   "execution_count": 2,
   "id": "6c248fbf",
   "metadata": {},
   "outputs": [],
   "source": [
    "df=pd.read_csv(\"Unfiltered_Movies.csv\")\n",
    "df = df.drop('overview', axis=1)\n"
   ]
  },
  {
   "cell_type": "code",
   "execution_count": 3,
   "id": "dc6da98b",
   "metadata": {},
   "outputs": [],
   "source": [
    "df = df.drop('tagline', axis=1)"
   ]
  },
  {
   "cell_type": "code",
   "execution_count": 4,
   "id": "325824f3",
   "metadata": {},
   "outputs": [],
   "source": [
    "df = df.drop('homepage', axis=1)"
   ]
  },
  {
   "cell_type": "code",
   "execution_count": 5,
   "id": "59486f7c",
   "metadata": {},
   "outputs": [],
   "source": [
    "df = df.drop('id', axis=1)"
   ]
  },
  {
   "cell_type": "code",
   "execution_count": 6,
   "id": "c6e8b44e",
   "metadata": {},
   "outputs": [],
   "source": [
    "director_name = input(\"Enter the director's name: \")\n",
    "result = df[df['director'] == director_name]\n"
   ]
  },
  {
   "cell_type": "code",
   "execution_count": 7,
   "id": "bed606c1",
   "metadata": {},
   "outputs": [
    {
     "name": "stdout",
     "output_type": "stream",
     "text": [
      "\n",
      "Available columns:\n",
      "['imdb_id', 'popularity', 'budget', 'revenue', 'original_title', 'cast', 'director', 'keywords', 'runtime', 'genres', 'production_companies', 'release_date', 'vote_count', 'vote_average', 'release_year', 'budget_adj', 'revenue_adj']\n"
     ]
    }
   ],
   "source": [
    "print(\"\\nAvailable columns:\")\n",
    "print(list(df.columns))"
   ]
  },
  {
   "cell_type": "code",
   "execution_count": 8,
   "id": "f765a51a",
   "metadata": {},
   "outputs": [
    {
     "data": {
      "text/html": [
       "<div>\n",
       "<style scoped>\n",
       "    .dataframe tbody tr th:only-of-type {\n",
       "        vertical-align: middle;\n",
       "    }\n",
       "\n",
       "    .dataframe tbody tr th {\n",
       "        vertical-align: top;\n",
       "    }\n",
       "\n",
       "    .dataframe thead th {\n",
       "        text-align: right;\n",
       "    }\n",
       "</style>\n",
       "<table border=\"1\" class=\"dataframe\">\n",
       "  <thead>\n",
       "    <tr style=\"text-align: right;\">\n",
       "      <th></th>\n",
       "      <th>popularity</th>\n",
       "      <th>revenue</th>\n",
       "      <th>original_title</th>\n",
       "      <th>director</th>\n",
       "      <th>release_date</th>\n",
       "    </tr>\n",
       "  </thead>\n",
       "  <tbody>\n",
       "    <tr>\n",
       "      <th>629</th>\n",
       "      <td>24.949134</td>\n",
       "      <td>621752480</td>\n",
       "      <td>Interstellar</td>\n",
       "      <td>Christopher Nolan</td>\n",
       "      <td>2011-05-14</td>\n",
       "    </tr>\n",
       "    <tr>\n",
       "      <th>1919</th>\n",
       "      <td>9.363643</td>\n",
       "      <td>825500000</td>\n",
       "      <td>Inception</td>\n",
       "      <td>Christopher Nolan</td>\n",
       "      <td>7/14/10</td>\n",
       "    </tr>\n",
       "    <tr>\n",
       "      <th>2875</th>\n",
       "      <td>8.466668</td>\n",
       "      <td>1001921825</td>\n",
       "      <td>The Dark Knight</td>\n",
       "      <td>Christopher Nolan</td>\n",
       "      <td>7/16/08</td>\n",
       "    </tr>\n",
       "    <tr>\n",
       "      <th>3955</th>\n",
       "      <td>1.111488</td>\n",
       "      <td>113714830</td>\n",
       "      <td>Insomnia</td>\n",
       "      <td>Christopher Nolan</td>\n",
       "      <td>5/24/02</td>\n",
       "    </tr>\n",
       "    <tr>\n",
       "      <th>4363</th>\n",
       "      <td>6.591277</td>\n",
       "      <td>1081041287</td>\n",
       "      <td>The Dark Knight Rises</td>\n",
       "      <td>Christopher Nolan</td>\n",
       "      <td>7/16/12</td>\n",
       "    </tr>\n",
       "    <tr>\n",
       "      <th>5399</th>\n",
       "      <td>0.168542</td>\n",
       "      <td>0</td>\n",
       "      <td>Doodlebug</td>\n",
       "      <td>Christopher Nolan</td>\n",
       "      <td>1/1/97</td>\n",
       "    </tr>\n",
       "    <tr>\n",
       "      <th>6191</th>\n",
       "      <td>5.400826</td>\n",
       "      <td>374218673</td>\n",
       "      <td>Batman Begins</td>\n",
       "      <td>Christopher Nolan</td>\n",
       "      <td>6/14/05</td>\n",
       "    </tr>\n",
       "    <tr>\n",
       "      <th>6565</th>\n",
       "      <td>2.582095</td>\n",
       "      <td>109676311</td>\n",
       "      <td>The Prestige</td>\n",
       "      <td>Christopher Nolan</td>\n",
       "      <td>10/19/06</td>\n",
       "    </tr>\n",
       "    <tr>\n",
       "      <th>8662</th>\n",
       "      <td>3.095625</td>\n",
       "      <td>39723096</td>\n",
       "      <td>Memento</td>\n",
       "      <td>Christopher Nolan</td>\n",
       "      <td>10/11/00</td>\n",
       "    </tr>\n",
       "    <tr>\n",
       "      <th>9129</th>\n",
       "      <td>0.225908</td>\n",
       "      <td>0</td>\n",
       "      <td>Following</td>\n",
       "      <td>Christopher Nolan</td>\n",
       "      <td>9/12/98</td>\n",
       "    </tr>\n",
       "  </tbody>\n",
       "</table>\n",
       "</div>"
      ],
      "text/plain": [
       "      popularity     revenue         original_title           director  \\\n",
       "629    24.949134   621752480           Interstellar  Christopher Nolan   \n",
       "1919    9.363643   825500000              Inception  Christopher Nolan   \n",
       "2875    8.466668  1001921825        The Dark Knight  Christopher Nolan   \n",
       "3955    1.111488   113714830               Insomnia  Christopher Nolan   \n",
       "4363    6.591277  1081041287  The Dark Knight Rises  Christopher Nolan   \n",
       "5399    0.168542           0              Doodlebug  Christopher Nolan   \n",
       "6191    5.400826   374218673          Batman Begins  Christopher Nolan   \n",
       "6565    2.582095   109676311           The Prestige  Christopher Nolan   \n",
       "8662    3.095625    39723096                Memento  Christopher Nolan   \n",
       "9129    0.225908           0              Following  Christopher Nolan   \n",
       "\n",
       "     release_date  \n",
       "629    2011-05-14  \n",
       "1919      7/14/10  \n",
       "2875      7/16/08  \n",
       "3955      5/24/02  \n",
       "4363      7/16/12  \n",
       "5399       1/1/97  \n",
       "6191      6/14/05  \n",
       "6565     10/19/06  \n",
       "8662     10/11/00  \n",
       "9129      9/12/98  "
      ]
     },
     "execution_count": 8,
     "metadata": {},
     "output_type": "execute_result"
    }
   ],
   "source": [
    "fields = input(\"\\nEnter the columns you want to display (comma-separated): \")\n",
    "fields = [f.strip() for f in fields.split(',')]\n",
    "df = result[fields]\n",
    "df\n"
   ]
  },
  {
   "cell_type": "code",
   "execution_count": 9,
   "id": "5ee5eefa",
   "metadata": {},
   "outputs": [
    {
     "name": "stderr",
     "output_type": "stream",
     "text": [
      "C:\\Users\\sadna\\AppData\\Local\\Temp\\ipykernel_22848\\2591124478.py:1: SettingWithCopyWarning: \n",
      "A value is trying to be set on a copy of a slice from a DataFrame.\n",
      "Try using .loc[row_indexer,col_indexer] = value instead\n",
      "\n",
      "See the caveats in the documentation: https://pandas.pydata.org/pandas-docs/stable/user_guide/indexing.html#returning-a-view-versus-a-copy\n",
      "  df['release_date'] = df['release_date'].apply(lambda x: pd.to_datetime(x, format='%m/%d/%y').strftime('%Y-%m-%d') if isinstance(x, str) and '/' in x else x)\n"
     ]
    },
    {
     "data": {
      "text/html": [
       "<div>\n",
       "<style scoped>\n",
       "    .dataframe tbody tr th:only-of-type {\n",
       "        vertical-align: middle;\n",
       "    }\n",
       "\n",
       "    .dataframe tbody tr th {\n",
       "        vertical-align: top;\n",
       "    }\n",
       "\n",
       "    .dataframe thead th {\n",
       "        text-align: right;\n",
       "    }\n",
       "</style>\n",
       "<table border=\"1\" class=\"dataframe\">\n",
       "  <thead>\n",
       "    <tr style=\"text-align: right;\">\n",
       "      <th></th>\n",
       "      <th>popularity</th>\n",
       "      <th>revenue</th>\n",
       "      <th>original_title</th>\n",
       "      <th>director</th>\n",
       "      <th>release_date</th>\n",
       "    </tr>\n",
       "  </thead>\n",
       "  <tbody>\n",
       "    <tr>\n",
       "      <th>629</th>\n",
       "      <td>24.949134</td>\n",
       "      <td>621752480</td>\n",
       "      <td>Interstellar</td>\n",
       "      <td>Christopher Nolan</td>\n",
       "      <td>2011-05-14</td>\n",
       "    </tr>\n",
       "    <tr>\n",
       "      <th>1919</th>\n",
       "      <td>9.363643</td>\n",
       "      <td>825500000</td>\n",
       "      <td>Inception</td>\n",
       "      <td>Christopher Nolan</td>\n",
       "      <td>2010-07-14</td>\n",
       "    </tr>\n",
       "    <tr>\n",
       "      <th>2875</th>\n",
       "      <td>8.466668</td>\n",
       "      <td>1001921825</td>\n",
       "      <td>The Dark Knight</td>\n",
       "      <td>Christopher Nolan</td>\n",
       "      <td>2008-07-16</td>\n",
       "    </tr>\n",
       "    <tr>\n",
       "      <th>3955</th>\n",
       "      <td>1.111488</td>\n",
       "      <td>113714830</td>\n",
       "      <td>Insomnia</td>\n",
       "      <td>Christopher Nolan</td>\n",
       "      <td>2002-05-24</td>\n",
       "    </tr>\n",
       "    <tr>\n",
       "      <th>4363</th>\n",
       "      <td>6.591277</td>\n",
       "      <td>1081041287</td>\n",
       "      <td>The Dark Knight Rises</td>\n",
       "      <td>Christopher Nolan</td>\n",
       "      <td>2012-07-16</td>\n",
       "    </tr>\n",
       "    <tr>\n",
       "      <th>5399</th>\n",
       "      <td>0.168542</td>\n",
       "      <td>0</td>\n",
       "      <td>Doodlebug</td>\n",
       "      <td>Christopher Nolan</td>\n",
       "      <td>1997-01-01</td>\n",
       "    </tr>\n",
       "    <tr>\n",
       "      <th>6191</th>\n",
       "      <td>5.400826</td>\n",
       "      <td>374218673</td>\n",
       "      <td>Batman Begins</td>\n",
       "      <td>Christopher Nolan</td>\n",
       "      <td>2005-06-14</td>\n",
       "    </tr>\n",
       "    <tr>\n",
       "      <th>6565</th>\n",
       "      <td>2.582095</td>\n",
       "      <td>109676311</td>\n",
       "      <td>The Prestige</td>\n",
       "      <td>Christopher Nolan</td>\n",
       "      <td>2006-10-19</td>\n",
       "    </tr>\n",
       "    <tr>\n",
       "      <th>8662</th>\n",
       "      <td>3.095625</td>\n",
       "      <td>39723096</td>\n",
       "      <td>Memento</td>\n",
       "      <td>Christopher Nolan</td>\n",
       "      <td>2000-10-11</td>\n",
       "    </tr>\n",
       "    <tr>\n",
       "      <th>9129</th>\n",
       "      <td>0.225908</td>\n",
       "      <td>0</td>\n",
       "      <td>Following</td>\n",
       "      <td>Christopher Nolan</td>\n",
       "      <td>1998-09-12</td>\n",
       "    </tr>\n",
       "  </tbody>\n",
       "</table>\n",
       "</div>"
      ],
      "text/plain": [
       "      popularity     revenue         original_title           director  \\\n",
       "629    24.949134   621752480           Interstellar  Christopher Nolan   \n",
       "1919    9.363643   825500000              Inception  Christopher Nolan   \n",
       "2875    8.466668  1001921825        The Dark Knight  Christopher Nolan   \n",
       "3955    1.111488   113714830               Insomnia  Christopher Nolan   \n",
       "4363    6.591277  1081041287  The Dark Knight Rises  Christopher Nolan   \n",
       "5399    0.168542           0              Doodlebug  Christopher Nolan   \n",
       "6191    5.400826   374218673          Batman Begins  Christopher Nolan   \n",
       "6565    2.582095   109676311           The Prestige  Christopher Nolan   \n",
       "8662    3.095625    39723096                Memento  Christopher Nolan   \n",
       "9129    0.225908           0              Following  Christopher Nolan   \n",
       "\n",
       "     release_date  \n",
       "629    2011-05-14  \n",
       "1919   2010-07-14  \n",
       "2875   2008-07-16  \n",
       "3955   2002-05-24  \n",
       "4363   2012-07-16  \n",
       "5399   1997-01-01  \n",
       "6191   2005-06-14  \n",
       "6565   2006-10-19  \n",
       "8662   2000-10-11  \n",
       "9129   1998-09-12  "
      ]
     },
     "execution_count": 9,
     "metadata": {},
     "output_type": "execute_result"
    }
   ],
   "source": [
    "df['release_date'] = df['release_date'].apply(lambda x: pd.to_datetime(x, format='%m/%d/%y').strftime('%Y-%m-%d') if isinstance(x, str) and '/' in x else x)\n",
    "df"
   ]
  },
  {
   "cell_type": "code",
   "execution_count": 10,
   "id": "f2f6709a",
   "metadata": {},
   "outputs": [],
   "source": [
    "df.to_csv(\"filtered_movies.csv\", index=False)"
   ]
  },
  {
   "cell_type": "code",
   "execution_count": 19,
   "id": "5461a15a",
   "metadata": {},
   "outputs": [
    {
     "data": {
      "text/plain": [
       "<Axes: xlabel='release_date', ylabel='popularity'>"
      ]
     },
     "execution_count": 19,
     "metadata": {},
     "output_type": "execute_result"
    },
    {
     "data": {
      "image/png": "[encoded data removed]",
      "text/plain": [
       "<Figure size 640x480 with 1 Axes>"
      ]
     },
     "metadata": {},
     "output_type": "display_data"
    }
   ],
   "source": [
    "df = df.sort_values(by='release_date', ascending=True)\n",
    "df.plot(kind= 'line', xlabel='release_date', ylabel='popularity')\n",
    "\n"
   ]
  },
  {
   "cell_type": "code",
   "execution_count": null,
   "id": "6badc558",
   "metadata": {},
   "outputs": [],
   "source": []
  }
 ],
 "metadata": {
  "kernelspec": {
   "display_name": "Python 3",
   "language": "python",
   "name": "python3"
  },
  "language_info": {
   "codemirror_mode": {
    "name": "ipython",
    "version": 3
   },
   "file_extension": ".py",
   "mimetype": "text/x-python",
   "name": "python",
   "nbconvert_exporter": "python",
   "pygments_lexer": "ipython3",
   "version": "3.14.0"
  }
 },
 "nbformat": 4,
 "nbformat_minor": 5
}
